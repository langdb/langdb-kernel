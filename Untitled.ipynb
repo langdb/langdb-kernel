{
 "cells": [
  {
   "cell_type": "code",
   "execution_count": null,
   "id": "f7cab8ad-6113-4875-8dfb-af72685b137f",
   "metadata": {},
   "outputs": [],
   "source": []
  }
 ],
 "metadata": {
  "kernelspec": {
   "display_name": "",
   "name": ""
  },
  "language_info": {
   "name": ""
  }
 },
 "nbformat": 4,
 "nbformat_minor": 5
}
